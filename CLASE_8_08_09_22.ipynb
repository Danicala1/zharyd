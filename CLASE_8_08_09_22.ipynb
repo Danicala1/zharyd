{
  "nbformat": 4,
  "nbformat_minor": 0,
  "metadata": {
    "colab": {
      "provenance": [],
      "collapsed_sections": []
    },
    "kernelspec": {
      "name": "python3",
      "display_name": "Python 3"
    },
    "language_info": {
      "name": "python"
    }
  },
  "cells": [
    {
      "cell_type": "markdown",
      "source": [
        "\n",
        "\n",
        "\n",
        "\n",
        "#**COLEGIO SIGLO XXI- EL SOCORRO**\n",
        "#**PRESENTANDO A: ING PAOLA ANDREA QUINTERO**\n",
        "#**PRESENTADO POR: ZHARYD VANESSA QUIROGA ESPINOSA**\n",
        "#**8 SEPTIEMPRE 2022**\n",
        "\n",
        "#**¿Qué es Pyton?**\n",
        "# Python es un lenguaje de alto nivel de programación interpretado cuya filosofía hace hincapié en la legibilidad de su código, se utiliza para desarrollar aplicaciones de todo tipo, ejemplos: Instagram, Netflix, Spotify, Panda 3D, entre otros.\n",
        "\n",
        "#**Fecha de lanzamiento:**1991\n",
        "#Creadores:Guido van Rossum\n",
        "\n",
        "#**Recuperado de:** https://www.cursosaula21.com/que-es-python/\n",
        "## Nueva sección\n",
        "\n"
      ],
      "metadata": {
        "id": "-hhJ7lX8sFwo"
      }
    },
    {
      "cell_type": "markdown",
      "source": [],
      "metadata": {
        "id": "wUuSGATQ3m4F"
      }
    },
    {
      "cell_type": "code",
      "source": [
        "print(\"esto es una suma\")\n",
        "numero_uno=16\n",
        "numero_dos=4\n",
        "resultado = numero_uno + numero_dos\n",
        "print(resultado)"
      ],
      "metadata": {
        "colab": {
          "base_uri": "https://localhost:8080/"
        },
        "id": "QCSfaZjr3nOE",
        "outputId": "8b8824f8-d694-47b8-a7d3-3610f39abbda"
      },
      "execution_count": null,
      "outputs": [
        {
          "output_type": "stream",
          "name": "stdout",
          "text": [
            "esto es una suma\n",
            "20\n"
          ]
        }
      ]
    },
    {
      "cell_type": "code",
      "source": [],
      "metadata": {
        "id": "jUUzz7Zt4l-m"
      },
      "execution_count": null,
      "outputs": []
    },
    {
      "cell_type": "code",
      "source": [
        "print(\"esto es una resta\")\n",
        "numero_uno=16\n",
        "numero_dos=4\n",
        "resultado = numero_uno - numero_dos\n",
        "print(resultado)"
      ],
      "metadata": {
        "colab": {
          "base_uri": "https://localhost:8080/"
        },
        "outputId": "83c15809-6b64-446d-fe9f-38cfd1be94c5",
        "id": "RkV524ch4oi9"
      },
      "execution_count": null,
      "outputs": [
        {
          "output_type": "stream",
          "name": "stdout",
          "text": [
            "esto es una resta\n",
            "12\n"
          ]
        }
      ]
    },
    {
      "cell_type": "code",
      "source": [],
      "metadata": {
        "id": "l-SPltNG4syN"
      },
      "execution_count": null,
      "outputs": []
    },
    {
      "cell_type": "code",
      "source": [
        "print(\"esto es una multiplicacion\")\n",
        "numero_uno=5\n",
        "numero_dos=4\n",
        "resultado = numero_uno * numero_dos\n",
        "print(resultado)"
      ],
      "metadata": {
        "colab": {
          "base_uri": "https://localhost:8080/"
        },
        "outputId": "095f8b99-ceea-457d-c13d-f5cbbcb5cb25",
        "id": "E_hGz2gr4zzE"
      },
      "execution_count": null,
      "outputs": [
        {
          "output_type": "stream",
          "name": "stdout",
          "text": [
            "esto es una multiplicacion\n",
            "20\n"
          ]
        }
      ]
    },
    {
      "cell_type": "code",
      "source": [],
      "metadata": {
        "id": "B7z61LmR47i1"
      },
      "execution_count": null,
      "outputs": []
    },
    {
      "cell_type": "code",
      "source": [
        "print(\"esto es una division \")\n",
        "numero_uno=80\n",
        "numero_dos=4\n",
        "resultado = numero_uno / numero_dos\n",
        "print(resultado)"
      ],
      "metadata": {
        "colab": {
          "base_uri": "https://localhost:8080/"
        },
        "outputId": "91040093-f148-4a3a-fcdd-f874a2c3fb16",
        "id": "OACtN71e48P1"
      },
      "execution_count": null,
      "outputs": [
        {
          "output_type": "stream",
          "name": "stdout",
          "text": [
            "esto es una division \n",
            "20.0\n"
          ]
        }
      ]
    },
    {
      "cell_type": "markdown",
      "source": [],
      "metadata": {
        "id": "0AsdidMJ5wyV"
      }
    },
    {
      "cell_type": "markdown",
      "source": [
        "#Ejercicios de Tipos de Datos simples \n",
        "nombre = input (\"¿Cómo te llamas?\")\n"
      ],
      "metadata": {
        "id": "MPEkWlBw5L-2"
      }
    },
    {
      "cell_type": "code",
      "source": [
        "nombre=input(\"¿Cómo te llamas ?\")"
      ],
      "metadata": {
        "id": "oAMpEWIv6hLk"
      },
      "execution_count": null,
      "outputs": []
    },
    {
      "cell_type": "markdown",
      "source": [
        "##Ejercicio1\n",
        "Escribir un programa que pregunte el nombre del usuario en la consola de un número entero e imprima por pantalla en líneas distintad el nombre del usuario tantas veces como el número introducido."
      ],
      "metadata": {
        "id": "cZ4NofbywWRU"
      }
    },
    {
      "cell_type": "code",
      "source": [
        "nombre= input (\"¿Cómo te llamas?\")\n",
        "n= input(\"introduce un número entero:\")\n",
        "print((nombre+\"\\n\")*int(n))"
      ],
      "metadata": {
        "colab": {
          "base_uri": "https://localhost:8080/"
        },
        "id": "c7ge4gTlyX9U",
        "outputId": "4a9a15fa-fb2c-4986-f11f-f8b7ed51ccc6"
      },
      "execution_count": null,
      "outputs": [
        {
          "output_type": "stream",
          "name": "stdout",
          "text": [
            "¿Cómo te llamas?zharyd\n",
            "i9ntroduce un número entero:30\n",
            "zharyd\n",
            "zharyd\n",
            "zharyd\n",
            "zharyd\n",
            "zharyd\n",
            "zharyd\n",
            "zharyd\n",
            "zharyd\n",
            "zharyd\n",
            "zharyd\n",
            "zharyd\n",
            "zharyd\n",
            "zharyd\n",
            "zharyd\n",
            "zharyd\n",
            "zharyd\n",
            "zharyd\n",
            "zharyd\n",
            "zharyd\n",
            "zharyd\n",
            "zharyd\n",
            "zharyd\n",
            "zharyd\n",
            "zharyd\n",
            "zharyd\n",
            "zharyd\n",
            "zharyd\n",
            "zharyd\n",
            "zharyd\n",
            "zharyd\n",
            "\n"
          ]
        }
      ]
    },
    {
      "cell_type": "markdown",
      "source": [
        "##Ejercicio2\n",
        "Escribir un programa que le pida al usuario su peso(en kg)y estatura (en metros), calcule el índice de masa corporal y lo almacene en una variable, e imprima por pantalla la frase 'Tu índice de masa corporal es <imc>' donde <imc> es el índice de masa  corporal calculando redondeado conm los decimales"
      ],
      "metadata": {
        "id": "Hsrp6d3E0Fir"
      }
    },
    {
      "cell_type": "code",
      "source": [
        "peso = input(\"¿cual es tu peso en KG?\")\n",
        "estatura = input(\"¿cual es tu estatura en M?\")\n",
        "imc = round(float(peso)/float(estatura)**2,2)\n",
        "print(\"tu indice de masa corporal es \" + str(imc))"
      ],
      "metadata": {
        "colab": {
          "base_uri": "https://localhost:8080/"
        },
        "id": "TlNcsEvP_va_",
        "outputId": "b692f1dc-de43-4c42-97a5-47f69b2189f0"
      },
      "execution_count": 2,
      "outputs": [
        {
          "output_type": "stream",
          "name": "stdout",
          "text": [
            "¿cual es tu peso en KG?65\n",
            "¿cual es tu estatura en M?1.52\n",
            "tu indice de masa corporal es 28.13\n"
          ]
        }
      ]
    },
    {
      "cell_type": "markdown",
      "source": [
        "## **LÍBRERIAS EN PHYTON**\n",
        "# ¿Que es?:\n",
        "##En este sentido, una librería es un conjunto de archivos que se utiliza para desarrollar software. Suele estar compuesta de código y datos, y su fin es ser utilizada por otros programas de forma totalmente autónoma. Simple y llanamente, es un archivo importable."
      ],
      "metadata": {
        "id": "bI_DphhK_HZv"
      }
    }
  ]
}